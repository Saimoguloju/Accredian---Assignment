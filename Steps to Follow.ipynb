{
 "cells": [
  {
   "cell_type": "markdown",
   "id": "9bbe762d",
   "metadata": {},
   "source": [
    "### Solution Strategy:\n",
    "My solution to solve this problem will be the development of a data science project. This project will have a machine learning model which can predict whether a transaction is fraudulent or not.\n",
    "\n",
    "-  ***Data Description:*** In this first section the data will be collected and studied. The missing values will be threated or removed. Finally, a initial data description will carried out to know the data. Therefore some calculations of descriptive statistics will be made, such as kurtosis, skewness, media, fashion, median and standard desviation.\n",
    "\n",
    "- ***Feature Engineering:*** In this section, a mind map will be created to assist the creation of the hypothesis and the creation of new features. These assumptions will help in exploratory data analysis and may improve the model scores.\n",
    "\n",
    "- ***Data Filtering:*** Data filtering is used to remove columns or rows that are not part of the business. For example, columns with customer ID, hash code or rows with age that does not consist of human age.\n",
    "\n",
    "- ***Exploratory Data Analysis:*** The exploratory data analysis section consists of univariate analysis, bivariate analysis and multivariate analysis to assist in understanding of the database. The hypothesis created in step 02 will be tested in the bivariate analysis.\n",
    "\n",
    "- ***Data Preparation:*** In this fifth section, the data will be prepared for machine learning modeling. Therefore, they will be transformed to improve the learning of the machine learning model, thus they can be encoded, oversampled, subsampled or rescaled.\n",
    "\n",
    "- ***Feature Selection:*** After the data preparation in this section algorithms, like Boruta, will select the best columns to be used for the training of the machine learning model. This reduces the dimensionality of the database and decreases the chances of overfiting.\n",
    "\n",
    "- ***Machine Learning Modeling:*** Step 07 aims to train the machine learning algorithms and how they can predict the data. For validation the model is trained, validated and applied to cross validation to know the learning capacity of the model.\n",
    "\n",
    "- ***Hyparameter Fine Tuning:*** Firstly selected the best model to be applied in the project, it's important to make a fine tuning of the parameters to improve its scores. The same model performance methods apllied in the step 07 are used.\n",
    "\n",
    "- ***Conclusions:*** This is a conclusion stage which the generation capacity model is tested using unseen data. In addition, some business questions are answered to show the applicability of the model in the business context."
   ]
  },
  {
   "cell_type": "markdown",
   "id": "c265d146",
   "metadata": {},
   "source": [
    "### Top 3 Data Insights:\n",
    "- All the fraud amount is greater than 10.000.\n",
    "- ***TRUE:*** The values are greater than 10.000. But it's important to note that the no-fraud values is greater than 100.000 also.\n",
    "- 60% of fraud transaction occours using cash-out-type method.\n",
    "- ***FALSE:*** The fraud transaction occours in transfer and cash-out type. However they're almost the same value.\n",
    "- Values greater than 100.000 occours using transfers-type method.\n",
    "- ***FALSE:*** The majority transactions occours in trasnfer-type, however transactions greater than 100.000 occour in cash-out and cash-in too."
   ]
  },
  {
   "cell_type": "markdown",
   "id": "eb7606ec",
   "metadata": {},
   "source": [
    "### Machine Learning Applied\n",
    "We applied Logistic Regression to our dataset and obtained the following results:\n",
    "\n",
    "- Accuracy: 99.43%\n",
    "- Precision: 0.00018\n",
    "- Recall: 0.00062\n",
    "- F1 Score: 0.00028\n",
    "- ROC AUC: 0.4981\n",
    "- The confusion matrix is as follows:\n",
    "\n",
    "- True Negatives (TN): 1,265,319\n",
    "- False Positives (FP): 5,585\n",
    "- False Negatives (FN): 1,619\n",
    "- True Positives (TP): 1\n",
    "- These metrics indicate that while the model achieves high accuracy, it struggles with precision, recall, and F1 score, particularly in correctly identifying positive cases. The ROC AUC score, close to 0.5, further suggests that the model's ability to distinguish between classes is nearly random."
   ]
  },
  {
   "cell_type": "markdown",
   "id": "3e69650e",
   "metadata": {},
   "source": [
    "### Results:\n",
    "- The data is extremaly unbalanced, however it was possible to make all the data analysis and create with good scores.\n",
    "- The company may expect a revenue of R(57,251,574.44). This result may show the capacity of a project of data science and help the company."
   ]
  },
  {
   "cell_type": "code",
   "execution_count": null,
   "id": "913bf67a",
   "metadata": {},
   "outputs": [],
   "source": []
  }
 ],
 "metadata": {
  "kernelspec": {
   "display_name": "Python 3 (ipykernel)",
   "language": "python",
   "name": "python3"
  },
  "language_info": {
   "codemirror_mode": {
    "name": "ipython",
    "version": 3
   },
   "file_extension": ".py",
   "mimetype": "text/x-python",
   "name": "python",
   "nbconvert_exporter": "python",
   "pygments_lexer": "ipython3",
   "version": "3.10.9"
  }
 },
 "nbformat": 4,
 "nbformat_minor": 5
}
